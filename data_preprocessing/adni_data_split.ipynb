{
  "cells": [
    {
      "cell_type": "code",
      "source": [
        "# ADNI Diagnosis-Based Subject Sampling and Splitting Notebook\n",
        "\n",
        "# This notebook filters and samples subjects from ADNIMERGE clinical data,\n",
        "# balances across CN, MCI, AD groups, and splits into train/val/test sets.\n",
        "\n",
        "import pandas as pd\n",
        "from sklearn.model_selection import train_test_split"
      ],
      "metadata": {
        "id": "OYbILMZ8RrCD"
      },
      "id": "OYbILMZ8RrCD",
      "execution_count": 1,
      "outputs": []
    },
    {
      "cell_type": "code",
      "source": [
        "# ---- Step 1: Load ADNIMERGE data from GitHub ----\n",
        "url = \"https://raw.githubusercontent.com/treyschulman/cs598dlh_project/main/data/ADNIMERGE_17Apr2025.csv\"\n",
        "df = pd.read_csv(url)"
      ],
      "metadata": {
        "id": "MKOjALt6Ruuj",
        "outputId": "a74779ea-2dd5-4ccc-8598-7fdd8bcc4d2c",
        "colab": {
          "base_uri": "https://localhost:8080/"
        }
      },
      "id": "MKOjALt6Ruuj",
      "execution_count": 2,
      "outputs": [
        {
          "output_type": "stream",
          "name": "stderr",
          "text": [
            "<ipython-input-2-60d16ce2ea74>:3: DtypeWarning: Columns (19,20,21,50,51,104,105,106) have mixed types. Specify dtype option on import or set low_memory=False.\n",
            "  df = pd.read_csv(url)\n"
          ]
        }
      ]
    },
    {
      "cell_type": "code",
      "source": [
        "# ---- Step 2: Filter to baseline visit only ----\n",
        "df_bl = df[df[\"VISCODE\"] == \"bl\"]"
      ],
      "metadata": {
        "id": "Mgr1yTc8R_Nd"
      },
      "id": "Mgr1yTc8R_Nd",
      "execution_count": 4,
      "outputs": []
    },
    {
      "cell_type": "code",
      "source": [
        "# ---- Step 3: Keep necessary columns and drop missing values ----\n",
        "columns_to_keep = [\"RID\", \"PTID\", \"DX_bl\", \"AGE\", \"PTGENDER\"]\n",
        "df_bl_filtered = df_bl[columns_to_keep].dropna(subset=[\"DX_bl\", \"AGE\", \"PTGENDER\"])"
      ],
      "metadata": {
        "id": "yTboY6D0SCl4"
      },
      "id": "yTboY6D0SCl4",
      "execution_count": 5,
      "outputs": []
    },
    {
      "cell_type": "code",
      "source": [
        "# ---- Step 4: Normalize diagnosis labels ----\n",
        "df_bl_filtered[\"DX_bl\"] = df_bl_filtered[\"DX_bl\"].replace({\"EMCI\": \"MCI\", \"LMCI\": \"MCI\"})"
      ],
      "metadata": {
        "id": "WozCMD9cSFIf"
      },
      "id": "WozCMD9cSFIf",
      "execution_count": 6,
      "outputs": []
    },
    {
      "cell_type": "code",
      "source": [
        "# ---- Step 5: Keep only CN, MCI, AD groups ----\n",
        "df_bl_filtered = df_bl_filtered[df_bl_filtered[\"DX_bl\"].isin([\"CN\", \"MCI\", \"AD\"])]"
      ],
      "metadata": {
        "id": "j8LuRfkQSHUV"
      },
      "id": "j8LuRfkQSHUV",
      "execution_count": 7,
      "outputs": []
    },
    {
      "cell_type": "code",
      "source": [
        "# ---- Step 6: Sample 15 subjects per class ----\n",
        "sampled_df = df_bl_filtered.groupby(\"DX_bl\", group_keys=False).apply(lambda x: x.sample(15, random_state=42))"
      ],
      "metadata": {
        "id": "MQmBgtnMSJSP",
        "outputId": "a2af7858-4ef0-44c0-e0ec-5166e4891493",
        "colab": {
          "base_uri": "https://localhost:8080/"
        }
      },
      "id": "MQmBgtnMSJSP",
      "execution_count": 8,
      "outputs": [
        {
          "output_type": "stream",
          "name": "stderr",
          "text": [
            "<ipython-input-8-ae44be255a5b>:2: DeprecationWarning: DataFrameGroupBy.apply operated on the grouping columns. This behavior is deprecated, and in a future version of pandas the grouping columns will be excluded from the operation. Either pass `include_groups=False` to exclude the groupings or explicitly select the grouping columns after groupby to silence this warning.\n",
            "  sampled_df = df_bl_filtered.groupby(\"DX_bl\", group_keys=False).apply(lambda x: x.sample(15, random_state=42))\n"
          ]
        }
      ]
    },
    {
      "cell_type": "code",
      "source": [
        "# ---- Step 7: Stratified split into train (70%), val (15%), test (15%) ----\n",
        "train_val_df, test_df = train_test_split(sampled_df, test_size=0.15, stratify=sampled_df[\"DX_bl\"], random_state=42)\n",
        "train_df, val_df = train_test_split(train_val_df, test_size=0.1765, stratify=train_val_df[\"DX_bl\"], random_state=42)"
      ],
      "metadata": {
        "id": "uzeGAdqOSLrq"
      },
      "id": "uzeGAdqOSLrq",
      "execution_count": 9,
      "outputs": []
    },
    {
      "cell_type": "code",
      "source": [
        "# ---- Step 8: Tag split and combine ----\n",
        "train_df = train_df.copy(); train_df[\"Split\"] = \"Train\"\n",
        "val_df = val_df.copy(); val_df[\"Split\"] = \"Validation\"\n",
        "test_df = test_df.copy(); test_df[\"Split\"] = \"Test\""
      ],
      "metadata": {
        "id": "Mu2T3BHJSOqE"
      },
      "id": "Mu2T3BHJSOqE",
      "execution_count": 10,
      "outputs": []
    },
    {
      "cell_type": "code",
      "source": [
        "final_df = pd.concat([train_df, val_df, test_df]).sort_values(by=[\"Split\", \"DX_bl\"])"
      ],
      "metadata": {
        "id": "A959Ati2SSey"
      },
      "id": "A959Ati2SSey",
      "execution_count": 11,
      "outputs": []
    },
    {
      "cell_type": "code",
      "source": [
        "# ---- Step 9: Save split files ----\n",
        "final_df.to_csv(\"adni_subject_splits.csv\", index=False)\n",
        "train_df.to_csv(\"train_subjects.csv\", index=False)\n",
        "val_df.to_csv(\"val_subjects.csv\", index=False)\n",
        "test_df.to_csv(\"test_subjects.csv\", index=False)"
      ],
      "metadata": {
        "id": "TBlOQV_tSWBV"
      },
      "id": "TBlOQV_tSWBV",
      "execution_count": 12,
      "outputs": []
    },
    {
      "cell_type": "code",
      "execution_count": 13,
      "id": "98ef6133",
      "metadata": {
        "vscode": {
          "languageId": "plaintext"
        },
        "id": "98ef6133",
        "outputId": "754361b0-c548-4c20-ae54-7ee839fe500f",
        "colab": {
          "base_uri": "https://localhost:8080/",
          "height": 432
        }
      },
      "outputs": [
        {
          "output_type": "stream",
          "name": "stdout",
          "text": [
            "\n",
            "Final Split Counts:\n",
            "Split       DX_bl\n",
            "Test        AD        2\n",
            "            CN        2\n",
            "            MCI       3\n",
            "Train       AD       10\n",
            "            CN       11\n",
            "            MCI      10\n",
            "Validation  AD        3\n",
            "            CN        2\n",
            "            MCI       2\n",
            "dtype: int64\n"
          ]
        },
        {
          "output_type": "execute_result",
          "data": {
            "text/plain": [
              "        RID        PTID DX_bl   AGE PTGENDER Split\n",
              "13044  6768  013_S_6768    AD  78.4   Female  Test\n",
              "1756    850  027_S_0850    AD  78.1     Male  Test\n",
              "952     419  010_S_0419    CN  70.2     Male  Test\n",
              "14712  6211  032_S_6211    CN  80.6     Male  Test\n",
              "11575   957  057_S_0957   MCI  74.0     Male  Test"
            ],
            "text/html": [
              "\n",
              "  <div id=\"df-65a9bc34-70d1-4340-9bf2-385a2363ee99\" class=\"colab-df-container\">\n",
              "    <div>\n",
              "<style scoped>\n",
              "    .dataframe tbody tr th:only-of-type {\n",
              "        vertical-align: middle;\n",
              "    }\n",
              "\n",
              "    .dataframe tbody tr th {\n",
              "        vertical-align: top;\n",
              "    }\n",
              "\n",
              "    .dataframe thead th {\n",
              "        text-align: right;\n",
              "    }\n",
              "</style>\n",
              "<table border=\"1\" class=\"dataframe\">\n",
              "  <thead>\n",
              "    <tr style=\"text-align: right;\">\n",
              "      <th></th>\n",
              "      <th>RID</th>\n",
              "      <th>PTID</th>\n",
              "      <th>DX_bl</th>\n",
              "      <th>AGE</th>\n",
              "      <th>PTGENDER</th>\n",
              "      <th>Split</th>\n",
              "    </tr>\n",
              "  </thead>\n",
              "  <tbody>\n",
              "    <tr>\n",
              "      <th>13044</th>\n",
              "      <td>6768</td>\n",
              "      <td>013_S_6768</td>\n",
              "      <td>AD</td>\n",
              "      <td>78.4</td>\n",
              "      <td>Female</td>\n",
              "      <td>Test</td>\n",
              "    </tr>\n",
              "    <tr>\n",
              "      <th>1756</th>\n",
              "      <td>850</td>\n",
              "      <td>027_S_0850</td>\n",
              "      <td>AD</td>\n",
              "      <td>78.1</td>\n",
              "      <td>Male</td>\n",
              "      <td>Test</td>\n",
              "    </tr>\n",
              "    <tr>\n",
              "      <th>952</th>\n",
              "      <td>419</td>\n",
              "      <td>010_S_0419</td>\n",
              "      <td>CN</td>\n",
              "      <td>70.2</td>\n",
              "      <td>Male</td>\n",
              "      <td>Test</td>\n",
              "    </tr>\n",
              "    <tr>\n",
              "      <th>14712</th>\n",
              "      <td>6211</td>\n",
              "      <td>032_S_6211</td>\n",
              "      <td>CN</td>\n",
              "      <td>80.6</td>\n",
              "      <td>Male</td>\n",
              "      <td>Test</td>\n",
              "    </tr>\n",
              "    <tr>\n",
              "      <th>11575</th>\n",
              "      <td>957</td>\n",
              "      <td>057_S_0957</td>\n",
              "      <td>MCI</td>\n",
              "      <td>74.0</td>\n",
              "      <td>Male</td>\n",
              "      <td>Test</td>\n",
              "    </tr>\n",
              "  </tbody>\n",
              "</table>\n",
              "</div>\n",
              "    <div class=\"colab-df-buttons\">\n",
              "\n",
              "  <div class=\"colab-df-container\">\n",
              "    <button class=\"colab-df-convert\" onclick=\"convertToInteractive('df-65a9bc34-70d1-4340-9bf2-385a2363ee99')\"\n",
              "            title=\"Convert this dataframe to an interactive table.\"\n",
              "            style=\"display:none;\">\n",
              "\n",
              "  <svg xmlns=\"http://www.w3.org/2000/svg\" height=\"24px\" viewBox=\"0 -960 960 960\">\n",
              "    <path d=\"M120-120v-720h720v720H120Zm60-500h600v-160H180v160Zm220 220h160v-160H400v160Zm0 220h160v-160H400v160ZM180-400h160v-160H180v160Zm440 0h160v-160H620v160ZM180-180h160v-160H180v160Zm440 0h160v-160H620v160Z\"/>\n",
              "  </svg>\n",
              "    </button>\n",
              "\n",
              "  <style>\n",
              "    .colab-df-container {\n",
              "      display:flex;\n",
              "      gap: 12px;\n",
              "    }\n",
              "\n",
              "    .colab-df-convert {\n",
              "      background-color: #E8F0FE;\n",
              "      border: none;\n",
              "      border-radius: 50%;\n",
              "      cursor: pointer;\n",
              "      display: none;\n",
              "      fill: #1967D2;\n",
              "      height: 32px;\n",
              "      padding: 0 0 0 0;\n",
              "      width: 32px;\n",
              "    }\n",
              "\n",
              "    .colab-df-convert:hover {\n",
              "      background-color: #E2EBFA;\n",
              "      box-shadow: 0px 1px 2px rgba(60, 64, 67, 0.3), 0px 1px 3px 1px rgba(60, 64, 67, 0.15);\n",
              "      fill: #174EA6;\n",
              "    }\n",
              "\n",
              "    .colab-df-buttons div {\n",
              "      margin-bottom: 4px;\n",
              "    }\n",
              "\n",
              "    [theme=dark] .colab-df-convert {\n",
              "      background-color: #3B4455;\n",
              "      fill: #D2E3FC;\n",
              "    }\n",
              "\n",
              "    [theme=dark] .colab-df-convert:hover {\n",
              "      background-color: #434B5C;\n",
              "      box-shadow: 0px 1px 3px 1px rgba(0, 0, 0, 0.15);\n",
              "      filter: drop-shadow(0px 1px 2px rgba(0, 0, 0, 0.3));\n",
              "      fill: #FFFFFF;\n",
              "    }\n",
              "  </style>\n",
              "\n",
              "    <script>\n",
              "      const buttonEl =\n",
              "        document.querySelector('#df-65a9bc34-70d1-4340-9bf2-385a2363ee99 button.colab-df-convert');\n",
              "      buttonEl.style.display =\n",
              "        google.colab.kernel.accessAllowed ? 'block' : 'none';\n",
              "\n",
              "      async function convertToInteractive(key) {\n",
              "        const element = document.querySelector('#df-65a9bc34-70d1-4340-9bf2-385a2363ee99');\n",
              "        const dataTable =\n",
              "          await google.colab.kernel.invokeFunction('convertToInteractive',\n",
              "                                                    [key], {});\n",
              "        if (!dataTable) return;\n",
              "\n",
              "        const docLinkHtml = 'Like what you see? Visit the ' +\n",
              "          '<a target=\"_blank\" href=https://colab.research.google.com/notebooks/data_table.ipynb>data table notebook</a>'\n",
              "          + ' to learn more about interactive tables.';\n",
              "        element.innerHTML = '';\n",
              "        dataTable['output_type'] = 'display_data';\n",
              "        await google.colab.output.renderOutput(dataTable, element);\n",
              "        const docLink = document.createElement('div');\n",
              "        docLink.innerHTML = docLinkHtml;\n",
              "        element.appendChild(docLink);\n",
              "      }\n",
              "    </script>\n",
              "  </div>\n",
              "\n",
              "\n",
              "<div id=\"df-f782a86f-6f87-4ee3-8794-8da2463fba9c\">\n",
              "  <button class=\"colab-df-quickchart\" onclick=\"quickchart('df-f782a86f-6f87-4ee3-8794-8da2463fba9c')\"\n",
              "            title=\"Suggest charts\"\n",
              "            style=\"display:none;\">\n",
              "\n",
              "<svg xmlns=\"http://www.w3.org/2000/svg\" height=\"24px\"viewBox=\"0 0 24 24\"\n",
              "     width=\"24px\">\n",
              "    <g>\n",
              "        <path d=\"M19 3H5c-1.1 0-2 .9-2 2v14c0 1.1.9 2 2 2h14c1.1 0 2-.9 2-2V5c0-1.1-.9-2-2-2zM9 17H7v-7h2v7zm4 0h-2V7h2v10zm4 0h-2v-4h2v4z\"/>\n",
              "    </g>\n",
              "</svg>\n",
              "  </button>\n",
              "\n",
              "<style>\n",
              "  .colab-df-quickchart {\n",
              "      --bg-color: #E8F0FE;\n",
              "      --fill-color: #1967D2;\n",
              "      --hover-bg-color: #E2EBFA;\n",
              "      --hover-fill-color: #174EA6;\n",
              "      --disabled-fill-color: #AAA;\n",
              "      --disabled-bg-color: #DDD;\n",
              "  }\n",
              "\n",
              "  [theme=dark] .colab-df-quickchart {\n",
              "      --bg-color: #3B4455;\n",
              "      --fill-color: #D2E3FC;\n",
              "      --hover-bg-color: #434B5C;\n",
              "      --hover-fill-color: #FFFFFF;\n",
              "      --disabled-bg-color: #3B4455;\n",
              "      --disabled-fill-color: #666;\n",
              "  }\n",
              "\n",
              "  .colab-df-quickchart {\n",
              "    background-color: var(--bg-color);\n",
              "    border: none;\n",
              "    border-radius: 50%;\n",
              "    cursor: pointer;\n",
              "    display: none;\n",
              "    fill: var(--fill-color);\n",
              "    height: 32px;\n",
              "    padding: 0;\n",
              "    width: 32px;\n",
              "  }\n",
              "\n",
              "  .colab-df-quickchart:hover {\n",
              "    background-color: var(--hover-bg-color);\n",
              "    box-shadow: 0 1px 2px rgba(60, 64, 67, 0.3), 0 1px 3px 1px rgba(60, 64, 67, 0.15);\n",
              "    fill: var(--button-hover-fill-color);\n",
              "  }\n",
              "\n",
              "  .colab-df-quickchart-complete:disabled,\n",
              "  .colab-df-quickchart-complete:disabled:hover {\n",
              "    background-color: var(--disabled-bg-color);\n",
              "    fill: var(--disabled-fill-color);\n",
              "    box-shadow: none;\n",
              "  }\n",
              "\n",
              "  .colab-df-spinner {\n",
              "    border: 2px solid var(--fill-color);\n",
              "    border-color: transparent;\n",
              "    border-bottom-color: var(--fill-color);\n",
              "    animation:\n",
              "      spin 1s steps(1) infinite;\n",
              "  }\n",
              "\n",
              "  @keyframes spin {\n",
              "    0% {\n",
              "      border-color: transparent;\n",
              "      border-bottom-color: var(--fill-color);\n",
              "      border-left-color: var(--fill-color);\n",
              "    }\n",
              "    20% {\n",
              "      border-color: transparent;\n",
              "      border-left-color: var(--fill-color);\n",
              "      border-top-color: var(--fill-color);\n",
              "    }\n",
              "    30% {\n",
              "      border-color: transparent;\n",
              "      border-left-color: var(--fill-color);\n",
              "      border-top-color: var(--fill-color);\n",
              "      border-right-color: var(--fill-color);\n",
              "    }\n",
              "    40% {\n",
              "      border-color: transparent;\n",
              "      border-right-color: var(--fill-color);\n",
              "      border-top-color: var(--fill-color);\n",
              "    }\n",
              "    60% {\n",
              "      border-color: transparent;\n",
              "      border-right-color: var(--fill-color);\n",
              "    }\n",
              "    80% {\n",
              "      border-color: transparent;\n",
              "      border-right-color: var(--fill-color);\n",
              "      border-bottom-color: var(--fill-color);\n",
              "    }\n",
              "    90% {\n",
              "      border-color: transparent;\n",
              "      border-bottom-color: var(--fill-color);\n",
              "    }\n",
              "  }\n",
              "</style>\n",
              "\n",
              "  <script>\n",
              "    async function quickchart(key) {\n",
              "      const quickchartButtonEl =\n",
              "        document.querySelector('#' + key + ' button');\n",
              "      quickchartButtonEl.disabled = true;  // To prevent multiple clicks.\n",
              "      quickchartButtonEl.classList.add('colab-df-spinner');\n",
              "      try {\n",
              "        const charts = await google.colab.kernel.invokeFunction(\n",
              "            'suggestCharts', [key], {});\n",
              "      } catch (error) {\n",
              "        console.error('Error during call to suggestCharts:', error);\n",
              "      }\n",
              "      quickchartButtonEl.classList.remove('colab-df-spinner');\n",
              "      quickchartButtonEl.classList.add('colab-df-quickchart-complete');\n",
              "    }\n",
              "    (() => {\n",
              "      let quickchartButtonEl =\n",
              "        document.querySelector('#df-f782a86f-6f87-4ee3-8794-8da2463fba9c button');\n",
              "      quickchartButtonEl.style.display =\n",
              "        google.colab.kernel.accessAllowed ? 'block' : 'none';\n",
              "    })();\n",
              "  </script>\n",
              "</div>\n",
              "\n",
              "    </div>\n",
              "  </div>\n"
            ],
            "application/vnd.google.colaboratory.intrinsic+json": {
              "type": "dataframe",
              "variable_name": "final_df",
              "summary": "{\n  \"name\": \"final_df\",\n  \"rows\": 45,\n  \"fields\": [\n    {\n      \"column\": \"RID\",\n      \"properties\": {\n        \"dtype\": \"number\",\n        \"std\": 2544,\n        \"min\": 8,\n        \"max\": 7001,\n        \"num_unique_values\": 45,\n        \"samples\": [\n          5063,\n          23,\n          436\n        ],\n        \"semantic_type\": \"\",\n        \"description\": \"\"\n      }\n    },\n    {\n      \"column\": \"PTID\",\n      \"properties\": {\n        \"dtype\": \"string\",\n        \"num_unique_values\": 45,\n        \"samples\": [\n          \"036_S_5063\",\n          \"011_S_0023\",\n          \"131_S_0436\"\n        ],\n        \"semantic_type\": \"\",\n        \"description\": \"\"\n      }\n    },\n    {\n      \"column\": \"DX_bl\",\n      \"properties\": {\n        \"dtype\": \"category\",\n        \"num_unique_values\": 3,\n        \"samples\": [\n          \"AD\",\n          \"CN\",\n          \"MCI\"\n        ],\n        \"semantic_type\": \"\",\n        \"description\": \"\"\n      }\n    },\n    {\n      \"column\": \"AGE\",\n      \"properties\": {\n        \"dtype\": \"number\",\n        \"std\": 6.56495362981462,\n        \"min\": 61.9,\n        \"max\": 89.2,\n        \"num_unique_values\": 43,\n        \"samples\": [\n          82.9,\n          78.9,\n          71.7\n        ],\n        \"semantic_type\": \"\",\n        \"description\": \"\"\n      }\n    },\n    {\n      \"column\": \"PTGENDER\",\n      \"properties\": {\n        \"dtype\": \"category\",\n        \"num_unique_values\": 2,\n        \"samples\": [\n          \"Male\",\n          \"Female\"\n        ],\n        \"semantic_type\": \"\",\n        \"description\": \"\"\n      }\n    },\n    {\n      \"column\": \"Split\",\n      \"properties\": {\n        \"dtype\": \"category\",\n        \"num_unique_values\": 3,\n        \"samples\": [\n          \"Test\",\n          \"Train\"\n        ],\n        \"semantic_type\": \"\",\n        \"description\": \"\"\n      }\n    }\n  ]\n}"
            }
          },
          "metadata": {},
          "execution_count": 13
        }
      ],
      "source": [
        "# ---- Step 10: Display summary ----\n",
        "print(\"\\nFinal Split Counts:\")\n",
        "print(final_df.groupby([\"Split\", \"DX_bl\"]).size())\n",
        "\n",
        "final_df.head()"
      ]
    },
    {
      "source": [
        "# @title DX_bl\n",
        "\n",
        "from matplotlib import pyplot as plt\n",
        "import seaborn as sns\n",
        "final_df.groupby('DX_bl').size().plot(kind='barh', color=sns.palettes.mpl_palette('Dark2'))\n",
        "plt.gca().spines[['top', 'right',]].set_visible(False)"
      ],
      "cell_type": "code",
      "execution_count": 16,
      "outputs": [
        {
          "output_type": "display_data",
          "data": {
            "text/plain": [
              "<Figure size 640x480 with 1 Axes>"
            ],
            "image/png": "[encoded data removed]"
          },
          "metadata": {}
        }
      ],
      "metadata": {
        "cellView": "form",
        "id": "Sm4WU3BNSo-Q",
        "outputId": "339e4994-3589-4c14-93d3-7338fe05f49d",
        "colab": {
          "base_uri": "https://localhost:8080/",
          "height": 430
        }
      },
      "id": "Sm4WU3BNSo-Q"
    },
    {
      "source": [
        "# @title AGE\n",
        "\n",
        "from matplotlib import pyplot as plt\n",
        "final_df['AGE'].plot(kind='hist', bins=20, title='AGE')\n",
        "plt.gca().spines[['top', 'right',]].set_visible(False)"
      ],
      "cell_type": "code",
      "execution_count": 15,
      "outputs": [
        {
          "output_type": "display_data",
          "data": {
            "text/plain": [
              "<Figure size 640x480 with 1 Axes>"
            ],
            "image/png": "[encoded data removed]"
          },
          "metadata": {}
        }
      ],
      "metadata": {
        "cellView": "form",
        "id": "gjWA2WvYSlkR",
        "outputId": "215418e0-8d68-41af-a9d5-6b17237e43c4",
        "colab": {
          "base_uri": "https://localhost:8080/",
          "height": 452
        }
      },
      "id": "gjWA2WvYSlkR"
    },
    {
      "source": [
        "# @title Split\n",
        "from matplotlib import pyplot as plt\n",
        "import seaborn as sns\n",
        "final_df.groupby('Split').size().plot(kind='barh', color=sns.palettes.mpl_palette('Dark2'))\n",
        "plt.gca().spines[['top', 'right',]].set_visible(False)"
      ],
      "cell_type": "code",
      "execution_count": 14,
      "outputs": [
        {
          "output_type": "display_data",
          "data": {
            "text/plain": [
              "<Figure size 640x480 with 1 Axes>"
            ],
            "image/png": "[encoded data removed]"
          },
          "metadata": {}
        }
      ],
      "metadata": {
        "cellView": "form",
        "id": "wp69yRIRSeKE",
        "outputId": "75735228-9cad-454c-a839-b9e1273b81e2",
        "colab": {
          "base_uri": "https://localhost:8080/",
          "height": 430
        }
      },
      "id": "wp69yRIRSeKE"
    },
    {
      "cell_type": "code",
      "source": [
        "# import requests\n",
        "# import os\n",
        "# import base64\n",
        "\n",
        "# # Replace with your actual PAT (stored securely)\n",
        "# GITHUB_PAT = \"removed\"\n",
        "# REPO_OWNER = \"treyschulman\"\n",
        "# REPO_NAME = \"cs598dlh_project\"\n",
        "# BRANCH = \"main\"\n",
        "# DATA_PATH = \"data\"  # Path within the repository\n",
        "\n",
        "# def upload_to_github(df, filename):\n",
        "#     \"\"\"Uploads a DataFrame to a GitHub repository as a CSV file.\"\"\"\n",
        "#     file_content = df.to_csv(index=False)  # Convert DataFrame to CSV string\n",
        "#     # Encode the file content to Base64\n",
        "#     encoded_content = base64.b64encode(file_content.encode()).decode()\n",
        "#     url = f\"https://api.github.com/repos/{REPO_OWNER}/{REPO_NAME}/contents/{DATA_PATH}/{filename}\"\n",
        "#     headers = {\n",
        "#         \"Authorization\": f\"token {GITHUB_PAT}\",\n",
        "#         \"Content-Type\": \"application/vnd.github.v3+json\"\n",
        "#     }\n",
        "#     data = {\n",
        "#         \"message\": f\"Update {filename}\",\n",
        "#         \"content\": encoded_content,  # Note: base64 encoding might be needed\n",
        "#         \"branch\": BRANCH\n",
        "#     }\n",
        "#     response = requests.put(url, headers=headers, json=data)\n",
        "#     if response.status_code == 200 or response.status_code == 201:  # Success\n",
        "#         print(f\"Uploaded {filename} to GitHub successfully.\")\n",
        "#     else:\n",
        "#         print(f\"Error uploading {filename} to GitHub: {response.status_code}\")\n",
        "#         print(response.json())  # Print error details\n",
        "\n",
        "# # Upload DataFrames\n",
        "# upload_to_github(final_df, \"adni_subject_splits.csv\")\n",
        "# upload_to_github(train_df, \"train_subjects.csv\")\n",
        "# upload_to_github(val_df, \"val_subjects.csv\")\n",
        "# upload_to_github(test_df, \"test_subjects.csv\")"
      ],
      "metadata": {
        "id": "OGHPiLohVkba",
        "outputId": "2cd0eb99-423b-445d-dcb5-b0a489ca761b",
        "colab": {
          "base_uri": "https://localhost:8080/"
        }
      },
      "id": "OGHPiLohVkba",
      "execution_count": 21,
      "outputs": [
        {
          "output_type": "stream",
          "name": "stdout",
          "text": [
            "Uploaded adni_subject_splits.csv to GitHub successfully.\n",
            "Uploaded train_subjects.csv to GitHub successfully.\n",
            "Uploaded val_subjects.csv to GitHub successfully.\n",
            "Uploaded test_subjects.csv to GitHub successfully.\n"
          ]
        }
      ]
    },
    {
      "cell_type": "code",
      "source": [],
      "metadata": {
        "id": "8FjxH-wLW7W2"
      },
      "id": "8FjxH-wLW7W2",
      "execution_count": null,
      "outputs": []
    }
  ],
  "metadata": {
    "language_info": {
      "name": "python"
    },
    "colab": {
      "provenance": []
    },
    "kernelspec": {
      "name": "python3",
      "display_name": "Python 3"
    }
  },
  "nbformat": 4,
  "nbformat_minor": 5
}