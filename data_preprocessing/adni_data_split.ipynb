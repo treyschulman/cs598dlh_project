{
 "cells": [
  {
   "cell_type": "code",
   "execution_count": null,
   "id": "98ef6133",
   "metadata": {
    "vscode": {
     "languageId": "plaintext"
    }
   },
   "outputs": [],
   "source": [
    "# ADNI Diagnosis-Based Subject Sampling and Splitting Notebook\n",
    "\n",
    "# This notebook filters and samples subjects from ADNIMERGE clinical data,\n",
    "# balances across CN, MCI, AD groups, and splits into train/val/test sets.\n",
    "\n",
    "import pandas as pd\n",
    "from sklearn.model_selection import train_test_split\n",
    "\n",
    "# ---- Step 1: Load ADNIMERGE data from GitHub ----\n",
    "url = \"https://raw.githubusercontent.com/treyschulman/cs598dlh_project/main/data/ADNIMERGE_17Apr2025.csv\"\n",
    "df = pd.read_csv(url)\n",
    "\n",
    "# ---- Step 2: Filter to baseline visit only ----\n",
    "df_bl = df[df[\"VISCODE\"] == \"bl\"]\n",
    "\n",
    "# ---- Step 3: Keep necessary columns and drop missing values ----\n",
    "columns_to_keep = [\"RID\", \"PTID\", \"DX_bl\", \"AGE\", \"PTGENDER\"]\n",
    "df_bl_filtered = df_bl[columns_to_keep].dropna(subset=[\"DX_bl\", \"AGE\", \"PTGENDER\"])\n",
    "\n",
    "# ---- Step 4: Normalize diagnosis labels ----\n",
    "df_bl_filtered[\"DX_bl\"] = df_bl_filtered[\"DX_bl\"].replace({\"EMCI\": \"MCI\", \"LMCI\": \"MCI\"})\n",
    "\n",
    "# ---- Step 5: Keep only CN, MCI, AD groups ----\n",
    "df_bl_filtered = df_bl_filtered[df_bl_filtered[\"DX_bl\"].isin([\"CN\", \"MCI\", \"AD\"])]\n",
    "\n",
    "# ---- Step 6: Sample 15 subjects per class ----\n",
    "sampled_df = df_bl_filtered.groupby(\"DX_bl\", group_keys=False).apply(lambda x: x.sample(15, random_state=42))\n",
    "\n",
    "# ---- Step 7: Stratified split into train (70%), val (15%), test (15%) ----\n",
    "train_val_df, test_df = train_test_split(sampled_df, test_size=0.15, stratify=sampled_df[\"DX_bl\"], random_state=42)\n",
    "train_df, val_df = train_test_split(train_val_df, test_size=0.1765, stratify=train_val_df[\"DX_bl\"], random_state=42)\n",
    "\n",
    "# ---- Step 8: Tag split and combine ----\n",
    "train_df = train_df.copy(); train_df[\"Split\"] = \"Train\"\n",
    "val_df = val_df.copy(); val_df[\"Split\"] = \"Validation\"\n",
    "test_df = test_df.copy(); test_df[\"Split\"] = \"Test\"\n",
    "\n",
    "final_df = pd.concat([train_df, val_df, test_df]).sort_values(by=[\"Split\", \"DX_bl\"])\n",
    "\n",
    "# ---- Step 9: Save split files ----\n",
    "final_df.to_csv(\"adni_subject_splits.csv\", index=False)\n",
    "train_df.to_csv(\"train_subjects.csv\", index=False)\n",
    "val_df.to_csv(\"val_subjects.csv\", index=False)\n",
    "test_df.to_csv(\"test_subjects.csv\", index=False)\n",
    "\n",
    "# ---- Step 10: Display summary ----\n",
    "print(\"\\nFinal Split Counts:\")\n",
    "print(final_df.groupby([\"Split\", \"DX_bl\"]).size())\n",
    "\n",
    "final_df.head()\n"
   ]
  }
 ],
 "metadata": {
  "language_info": {
   "name": "python"
  }
 },
 "nbformat": 4,
 "nbformat_minor": 5
}
